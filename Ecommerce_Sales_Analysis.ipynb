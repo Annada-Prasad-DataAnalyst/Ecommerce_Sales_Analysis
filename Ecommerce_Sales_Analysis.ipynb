# E-commerce Sales Analysis Dashboard

**Tools Used:** SQL, Python (Pandas, Matplotlib), Power BI  
**Objective:** Analyze e-commerce sales data to track sales trends, customer behavior, and key performance indicators (KPIs), and provide actionable insights.

**Project Highlights:**
- Data cleaning and preprocessing
- SQL queries to extract and aggregate data
- Python analysis for sales trends and visualizations
- Dashboard creation in Power BI
- Actionable insights for decision making

## Data Understanding

- The dataset contains sales transactions including date, product, customer, and sales amount.
- Key metrics of interest: monthly sales, top products, top customers, revenue trends.
- Data types include numeric (sales), categorical (product, customer), and temporal (date).

## Data Cleaning & Preprocessing

- Checked for missing values and duplicates
- Converted date columns to datetime format
- Created new columns for month, year, and revenue per transaction
- Filtered out irrelevant or incomplete records

## Exploratory Data Analysis

- Calculated monthly sales trends
- Identified top-selling products and top customers
- Visualized revenue over time using bar/line charts
- Highlighted trends and anomalies for further investigation

## Insights & Recommendations

- Sales peak during specific months → consider inventory planning
- Top customers contribute X% of revenue → focus on retention strategies
- Certain products underperform → evaluate promotions or pricing
- Data-driven decisions can improve revenue and customer satisfaction

# Import libraries
import pandas as pd
import matplotlib.pyplot as plt

# Sample dataset
data = pd.DataFrame({
    'Month': ['Jan', 'Feb', 'Mar'],
    'Sales': [1000, 1500, 1200]
})

# Plot monthly sales
data.plot(x='Month', y='Sales', kind='bar', title='Monthly Sales Trend')
plt.show()
